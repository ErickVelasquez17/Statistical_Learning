{
 "cells": [
  {
   "cell_type": "code",
   "execution_count": 1,
   "id": "0bcf28ca-b5f3-4de7-8759-21de1c490ed9",
   "metadata": {},
   "outputs": [],
   "source": [
    "import pandas as pd\n",
    "import numpy as np\n",
    "import seaborn as sns\n",
    "import matplotlib.pyplot as plt\n",
    "import scipy.stats as stats"
   ]
  },
  {
   "cell_type": "code",
   "execution_count": 35,
   "id": "de3fc243-a77f-414e-8708-20ccd75d0502",
   "metadata": {},
   "outputs": [],
   "source": [
    "dataset = pd.read_csv(\"train_HP.csv\")"
   ]
  },
  {
   "cell_type": "code",
   "execution_count": 22,
   "id": "b8dad71f-1046-48c8-a5ae-d9b5108cfb96",
   "metadata": {},
   "outputs": [],
   "source": [
    "def getNanColNames(df):\n",
    "    colnames = df.columns\n",
    "    cols_con_na = []\n",
    "    for col in colnames:\n",
    "        if(df[col].isnull().sum() > 0):\n",
    "            cols_con_na.append(col)\n",
    "    return cols_con_na"
   ]
  },
  {
   "cell_type": "code",
   "execution_count": 23,
   "id": "1fa121ec-48e9-4549-8948-4b067f641783",
   "metadata": {},
   "outputs": [],
   "source": [
    "def plot_density_variable(df, variable):\n",
    "    \n",
    "    plt.figure(figsize = (15,6))\n",
    "    plt.subplot(121)\n",
    "    df[variable].hist(bins=30)\n",
    "    plt.title(variable)\n",
    "    \n",
    "    plt.subplot(122)\n",
    "    stats.probplot(df[variable], dist=\"norm\", plot=plt)\n",
    "    plt.show()"
   ]
  },
  {
   "cell_type": "code",
   "execution_count": 24,
   "id": "09d9c6e4-c46b-4ca0-b961-311a13ef31d7",
   "metadata": {},
   "outputs": [],
   "source": [
    "def getContinuesCols(df):\n",
    "    colnames = df.columns\n",
    "    numeric_continues_vars = []\n",
    "    for col in colnames:\n",
    "        unique_values =len (df[col].unique())\n",
    "        if((df[col].dtype != 'object') and (unique_values > 30)):\n",
    "            numeric_continues_vars.append(col)\n",
    "    return numeric_continues_vars"
   ]
  },
  {
   "cell_type": "markdown",
   "id": "4e9c2a65-0d3a-4efc-872d-113ad0264011",
   "metadata": {},
   "source": [
    "### Verificación de NaN"
   ]
  },
  {
   "cell_type": "code",
   "execution_count": 26,
   "id": "d7637368-3838-44df-b522-32a8aea3f5f5",
   "metadata": {},
   "outputs": [
    {
     "data": {
      "text/plain": [
       "['LotFrontage',\n",
       " 'Alley',\n",
       " 'MasVnrType',\n",
       " 'MasVnrArea',\n",
       " 'BsmtQual',\n",
       " 'BsmtCond',\n",
       " 'BsmtExposure',\n",
       " 'BsmtFinType1',\n",
       " 'BsmtFinType2',\n",
       " 'Electrical',\n",
       " 'FireplaceQu',\n",
       " 'GarageType',\n",
       " 'GarageYrBlt',\n",
       " 'GarageFinish',\n",
       " 'GarageQual',\n",
       " 'GarageCond',\n",
       " 'PoolQC',\n",
       " 'Fence',\n",
       " 'MiscFeature']"
      ]
     },
     "execution_count": 26,
     "metadata": {},
     "output_type": "execute_result"
    }
   ],
   "source": [
    "#Columnas con NaN\n",
    "\n",
    "cols_con_nan = getNanColNames(dataset)\n",
    "cols_con_nan"
   ]
  },
  {
   "cell_type": "code",
   "execution_count": 27,
   "id": "7a4b0bff-5505-4b33-9eac-874e3ffb20c7",
   "metadata": {},
   "outputs": [
    {
     "data": {
      "text/plain": [
       "LotFrontage     float64\n",
       "Alley            object\n",
       "MasVnrType       object\n",
       "MasVnrArea      float64\n",
       "BsmtQual         object\n",
       "BsmtCond         object\n",
       "BsmtExposure     object\n",
       "BsmtFinType1     object\n",
       "BsmtFinType2     object\n",
       "Electrical       object\n",
       "FireplaceQu      object\n",
       "GarageType       object\n",
       "GarageYrBlt     float64\n",
       "GarageFinish     object\n",
       "GarageQual       object\n",
       "GarageCond       object\n",
       "PoolQC           object\n",
       "Fence            object\n",
       "MiscFeature      object\n",
       "dtype: object"
      ]
     },
     "execution_count": 27,
     "metadata": {},
     "output_type": "execute_result"
    }
   ],
   "source": [
    "# Tipo de columnas con NaN\n",
    "\n",
    "dataset[cols_con_nan].dtypes"
   ]
  },
  {
   "cell_type": "code",
   "execution_count": 28,
   "id": "9421623b-477e-415f-b70e-811ca98aa2ef",
   "metadata": {},
   "outputs": [
    {
     "data": {
      "text/plain": [
       "LotFrontage     0.177397\n",
       "Alley           0.937671\n",
       "MasVnrType      0.005479\n",
       "MasVnrArea      0.005479\n",
       "BsmtQual        0.025342\n",
       "BsmtCond        0.025342\n",
       "BsmtExposure    0.026027\n",
       "BsmtFinType1    0.025342\n",
       "BsmtFinType2    0.026027\n",
       "Electrical      0.000685\n",
       "FireplaceQu     0.472603\n",
       "GarageType      0.055479\n",
       "GarageYrBlt     0.055479\n",
       "GarageFinish    0.055479\n",
       "GarageQual      0.055479\n",
       "GarageCond      0.055479\n",
       "PoolQC          0.995205\n",
       "Fence           0.807534\n",
       "MiscFeature     0.963014\n",
       "dtype: float64"
      ]
     },
     "execution_count": 28,
     "metadata": {},
     "output_type": "execute_result"
    }
   ],
   "source": [
    "# Proporción de NaN\n",
    "\n",
    "dataset[cols_con_nan].isnull().mean()"
   ]
  },
  {
   "cell_type": "code",
   "execution_count": 36,
   "id": "ed0ec30e-327b-4e88-8865-8466bf17fe4d",
   "metadata": {},
   "outputs": [
    {
     "data": {
      "text/plain": [
       "259"
      ]
     },
     "execution_count": 36,
     "metadata": {},
     "output_type": "execute_result"
    }
   ],
   "source": [
    "#Comprobación de datos nulos antes de imputar media o mediana:\n",
    "\n",
    "dataset['LotFrontage'].isnull().sum()"
   ]
  },
  {
   "cell_type": "markdown",
   "id": "3d0ee5c6-97cb-4fb0-927e-669431906d36",
   "metadata": {},
   "source": [
    "### Imputación de Media y Mediana"
   ]
  },
  {
   "cell_type": "code",
   "execution_count": 38,
   "id": "45a94862-9e8e-4546-9235-a394d2a48b78",
   "metadata": {},
   "outputs": [],
   "source": [
    "#Se imputa la media o media según la mejor correlación.\n",
    "\n",
    "meanValue = np.round(dataset['LotFrontage'].mean(), 0)\n",
    "medianValue = np.round(dataset['LotFrontage'].median(), 0)\n",
    "\n",
    "dataset_FL_meanImp = dataset['LotFrontage'].fillna(meanValue)\n",
    "dataset_FL_medianImp = dataset['LotFrontage'].fillna(medianValue)\n",
    "\n",
    "valor_media = np.corrcoef(dataset_FL_meanImp, dataset['LotFrontage'])[0,1]\n",
    "valor_mediana = np.corrcoef(dataset_FL_medianImp, dataset['LotFrontage'])[0,1]\n",
    "\n",
    "if (valor_media > valor_mediana):\n",
    "    dataset['LotFrontage'] = dataset['LotFrontage'].fillna(meanValue)\n",
    "else:\n",
    "    dataset['LotFrontage'] = dataset['LotFrontage'].fillna(medianValue)\n"
   ]
  },
  {
   "cell_type": "code",
   "execution_count": 39,
   "id": "92c1ba27-eaac-4837-8042-c9001374f982",
   "metadata": {},
   "outputs": [
    {
     "data": {
      "text/plain": [
       "0"
      ]
     },
     "execution_count": 39,
     "metadata": {},
     "output_type": "execute_result"
    }
   ],
   "source": [
    "#Comprobación de datos nulos luego de imputar la media o mediana:\n",
    "\n",
    "dataset['LotFrontage'].isnull().sum()"
   ]
  },
  {
   "cell_type": "code",
   "execution_count": 40,
   "id": "427db5e8-0b6a-4b29-aa7f-c6105defc56f",
   "metadata": {},
   "outputs": [],
   "source": [
    "dataset_temp = dataset"
   ]
  },
  {
   "cell_type": "markdown",
   "id": "42e213e1-b2b1-4677-bb8f-5a613e170d4e",
   "metadata": {},
   "source": [
    "### Transformaciones"
   ]
  },
  {
   "cell_type": "code",
   "execution_count": 43,
   "id": "9add6eef-5c71-4676-9bd6-5e79a5852d76",
   "metadata": {},
   "outputs": [
    {
     "data": {
      "text/plain": [
       "0.3885202679345965"
      ]
     },
     "execution_count": 43,
     "metadata": {},
     "output_type": "execute_result"
    }
   ],
   "source": [
    "# Transformación Logaritmica\n",
    "\n",
    "dataset_temp['LotArea_log'] = np.log(dataset['LotArea'])\n",
    "np.corrcoef(dataset_temp['LotArea_log'], dataset_temp['SalePrice'])[0, 1]"
   ]
  },
  {
   "cell_type": "code",
   "execution_count": 44,
   "id": "6e674d63-ce3d-47ab-a31c-45fe5714b1ba",
   "metadata": {},
   "outputs": [
    {
     "data": {
      "text/plain": [
       "-0.2950744036106421"
      ]
     },
     "execution_count": 44,
     "metadata": {},
     "output_type": "execute_result"
    }
   ],
   "source": [
    "# Tranformación Inversa\n",
    "\n",
    "dataset_temp['LotArea_inv'] = (1 / dataset['LotArea'])\n",
    "np.corrcoef(dataset_temp['LotArea_inv'], dataset_temp['SalePrice'])[0, 1]"
   ]
  },
  {
   "cell_type": "code",
   "execution_count": 45,
   "id": "791c2673-16a7-45dc-8c81-7f8bc7316789",
   "metadata": {},
   "outputs": [
    {
     "data": {
      "text/plain": [
       "0.11446844700039834"
      ]
     },
     "execution_count": 45,
     "metadata": {},
     "output_type": "execute_result"
    }
   ],
   "source": [
    "#Tranformación Polinomial de Orden 2\n",
    "\n",
    "dataset_temp['LotArea_quadratic'] = (dataset['LotArea']**2)\n",
    "np.corrcoef(dataset_temp['LotArea_quadratic'], dataset_temp['SalePrice'])[0, 1]"
   ]
  },
  {
   "cell_type": "code",
   "execution_count": 47,
   "id": "d2a89553-1fa3-4da6-8185-9bffcc32ee70",
   "metadata": {},
   "outputs": [
    {
     "data": {
      "text/plain": [
       "0.38951441164829037"
      ]
     },
     "execution_count": 47,
     "metadata": {},
     "output_type": "execute_result"
    }
   ],
   "source": [
    "#Transformación de Box Cox:\n",
    "\n",
    "dataset_temp['LotArea_boxCox'], lambdaX = stats.boxcox(dataset_temp['LotArea'])\n",
    "np.corrcoef(dataset_temp['LotArea_boxCox'], dataset_temp['SalePrice'])[0, 1]\n"
   ]
  },
  {
   "cell_type": "code",
   "execution_count": 48,
   "id": "08b45d4b-8aa7-4052-810e-1b469fc9f2c0",
   "metadata": {},
   "outputs": [
    {
     "data": {
      "text/plain": [
       "0.3895178427128208"
      ]
     },
     "execution_count": 48,
     "metadata": {},
     "output_type": "execute_result"
    }
   ],
   "source": [
    "#Transformación de YeoJohnson\n",
    "\n",
    "dataset_temp['LotArea_YJ'], lambdaX = stats.yeojohnson(dataset_temp['LotArea'])\n",
    "np.corrcoef(dataset_temp['LotArea_YJ'], dataset_temp['SalePrice'])[0, 1]"
   ]
  },
  {
   "cell_type": "code",
   "execution_count": 49,
   "id": "111f085d-510f-4a69-8681-2c78e3461b1a",
   "metadata": {},
   "outputs": [
    {
     "data": {
      "text/html": [
       "<div>\n",
       "<style scoped>\n",
       "    .dataframe tbody tr th:only-of-type {\n",
       "        vertical-align: middle;\n",
       "    }\n",
       "\n",
       "    .dataframe tbody tr th {\n",
       "        vertical-align: top;\n",
       "    }\n",
       "\n",
       "    .dataframe thead th {\n",
       "        text-align: right;\n",
       "    }\n",
       "</style>\n",
       "<table border=\"1\" class=\"dataframe\">\n",
       "  <thead>\n",
       "    <tr style=\"text-align: right;\">\n",
       "      <th></th>\n",
       "      <th>Id</th>\n",
       "      <th>MSSubClass</th>\n",
       "      <th>MSZoning</th>\n",
       "      <th>LotFrontage</th>\n",
       "      <th>LotArea</th>\n",
       "      <th>Street</th>\n",
       "      <th>Alley</th>\n",
       "      <th>LotShape</th>\n",
       "      <th>LandContour</th>\n",
       "      <th>Utilities</th>\n",
       "      <th>...</th>\n",
       "      <th>MoSold</th>\n",
       "      <th>YrSold</th>\n",
       "      <th>SaleType</th>\n",
       "      <th>SaleCondition</th>\n",
       "      <th>SalePrice</th>\n",
       "      <th>LotArea_log</th>\n",
       "      <th>LotArea_inv</th>\n",
       "      <th>LotArea_quadratic</th>\n",
       "      <th>LotArea_boxCox</th>\n",
       "      <th>LotArea_YJ</th>\n",
       "    </tr>\n",
       "  </thead>\n",
       "  <tbody>\n",
       "    <tr>\n",
       "      <th>0</th>\n",
       "      <td>1</td>\n",
       "      <td>60</td>\n",
       "      <td>RL</td>\n",
       "      <td>65.0</td>\n",
       "      <td>8450</td>\n",
       "      <td>Pave</td>\n",
       "      <td>NaN</td>\n",
       "      <td>Reg</td>\n",
       "      <td>Lvl</td>\n",
       "      <td>AllPub</td>\n",
       "      <td>...</td>\n",
       "      <td>2</td>\n",
       "      <td>2008</td>\n",
       "      <td>WD</td>\n",
       "      <td>Normal</td>\n",
       "      <td>208500</td>\n",
       "      <td>9.041922</td>\n",
       "      <td>0.000118</td>\n",
       "      <td>71402500</td>\n",
       "      <td>10.433680</td>\n",
       "      <td>10.427531</td>\n",
       "    </tr>\n",
       "    <tr>\n",
       "      <th>1</th>\n",
       "      <td>2</td>\n",
       "      <td>20</td>\n",
       "      <td>RL</td>\n",
       "      <td>80.0</td>\n",
       "      <td>9600</td>\n",
       "      <td>Pave</td>\n",
       "      <td>NaN</td>\n",
       "      <td>Reg</td>\n",
       "      <td>Lvl</td>\n",
       "      <td>AllPub</td>\n",
       "      <td>...</td>\n",
       "      <td>5</td>\n",
       "      <td>2007</td>\n",
       "      <td>WD</td>\n",
       "      <td>Normal</td>\n",
       "      <td>181500</td>\n",
       "      <td>9.169518</td>\n",
       "      <td>0.000104</td>\n",
       "      <td>92160000</td>\n",
       "      <td>10.602809</td>\n",
       "      <td>10.596445</td>\n",
       "    </tr>\n",
       "    <tr>\n",
       "      <th>2</th>\n",
       "      <td>3</td>\n",
       "      <td>60</td>\n",
       "      <td>RL</td>\n",
       "      <td>68.0</td>\n",
       "      <td>11250</td>\n",
       "      <td>Pave</td>\n",
       "      <td>NaN</td>\n",
       "      <td>IR1</td>\n",
       "      <td>Lvl</td>\n",
       "      <td>AllPub</td>\n",
       "      <td>...</td>\n",
       "      <td>9</td>\n",
       "      <td>2008</td>\n",
       "      <td>WD</td>\n",
       "      <td>Normal</td>\n",
       "      <td>223500</td>\n",
       "      <td>9.328123</td>\n",
       "      <td>0.000089</td>\n",
       "      <td>126562500</td>\n",
       "      <td>10.813973</td>\n",
       "      <td>10.807340</td>\n",
       "    </tr>\n",
       "    <tr>\n",
       "      <th>3</th>\n",
       "      <td>4</td>\n",
       "      <td>70</td>\n",
       "      <td>RL</td>\n",
       "      <td>60.0</td>\n",
       "      <td>9550</td>\n",
       "      <td>Pave</td>\n",
       "      <td>NaN</td>\n",
       "      <td>IR1</td>\n",
       "      <td>Lvl</td>\n",
       "      <td>AllPub</td>\n",
       "      <td>...</td>\n",
       "      <td>2</td>\n",
       "      <td>2006</td>\n",
       "      <td>WD</td>\n",
       "      <td>Abnorml</td>\n",
       "      <td>140000</td>\n",
       "      <td>9.164296</td>\n",
       "      <td>0.000105</td>\n",
       "      <td>91202500</td>\n",
       "      <td>10.595874</td>\n",
       "      <td>10.589519</td>\n",
       "    </tr>\n",
       "    <tr>\n",
       "      <th>4</th>\n",
       "      <td>5</td>\n",
       "      <td>60</td>\n",
       "      <td>RL</td>\n",
       "      <td>84.0</td>\n",
       "      <td>14260</td>\n",
       "      <td>Pave</td>\n",
       "      <td>NaN</td>\n",
       "      <td>IR1</td>\n",
       "      <td>Lvl</td>\n",
       "      <td>AllPub</td>\n",
       "      <td>...</td>\n",
       "      <td>12</td>\n",
       "      <td>2008</td>\n",
       "      <td>WD</td>\n",
       "      <td>Normal</td>\n",
       "      <td>250000</td>\n",
       "      <td>9.565214</td>\n",
       "      <td>0.000070</td>\n",
       "      <td>203347600</td>\n",
       "      <td>11.131570</td>\n",
       "      <td>11.124530</td>\n",
       "    </tr>\n",
       "    <tr>\n",
       "      <th>...</th>\n",
       "      <td>...</td>\n",
       "      <td>...</td>\n",
       "      <td>...</td>\n",
       "      <td>...</td>\n",
       "      <td>...</td>\n",
       "      <td>...</td>\n",
       "      <td>...</td>\n",
       "      <td>...</td>\n",
       "      <td>...</td>\n",
       "      <td>...</td>\n",
       "      <td>...</td>\n",
       "      <td>...</td>\n",
       "      <td>...</td>\n",
       "      <td>...</td>\n",
       "      <td>...</td>\n",
       "      <td>...</td>\n",
       "      <td>...</td>\n",
       "      <td>...</td>\n",
       "      <td>...</td>\n",
       "      <td>...</td>\n",
       "      <td>...</td>\n",
       "    </tr>\n",
       "    <tr>\n",
       "      <th>1455</th>\n",
       "      <td>1456</td>\n",
       "      <td>60</td>\n",
       "      <td>RL</td>\n",
       "      <td>62.0</td>\n",
       "      <td>7917</td>\n",
       "      <td>Pave</td>\n",
       "      <td>NaN</td>\n",
       "      <td>Reg</td>\n",
       "      <td>Lvl</td>\n",
       "      <td>AllPub</td>\n",
       "      <td>...</td>\n",
       "      <td>8</td>\n",
       "      <td>2007</td>\n",
       "      <td>WD</td>\n",
       "      <td>Normal</td>\n",
       "      <td>175000</td>\n",
       "      <td>8.976768</td>\n",
       "      <td>0.000126</td>\n",
       "      <td>62678889</td>\n",
       "      <td>10.347575</td>\n",
       "      <td>10.341536</td>\n",
       "    </tr>\n",
       "    <tr>\n",
       "      <th>1456</th>\n",
       "      <td>1457</td>\n",
       "      <td>20</td>\n",
       "      <td>RL</td>\n",
       "      <td>85.0</td>\n",
       "      <td>13175</td>\n",
       "      <td>Pave</td>\n",
       "      <td>NaN</td>\n",
       "      <td>Reg</td>\n",
       "      <td>Lvl</td>\n",
       "      <td>AllPub</td>\n",
       "      <td>...</td>\n",
       "      <td>2</td>\n",
       "      <td>2010</td>\n",
       "      <td>WD</td>\n",
       "      <td>Normal</td>\n",
       "      <td>210000</td>\n",
       "      <td>9.486076</td>\n",
       "      <td>0.000076</td>\n",
       "      <td>173580625</td>\n",
       "      <td>11.025301</td>\n",
       "      <td>11.018398</td>\n",
       "    </tr>\n",
       "    <tr>\n",
       "      <th>1457</th>\n",
       "      <td>1458</td>\n",
       "      <td>70</td>\n",
       "      <td>RL</td>\n",
       "      <td>66.0</td>\n",
       "      <td>9042</td>\n",
       "      <td>Pave</td>\n",
       "      <td>NaN</td>\n",
       "      <td>Reg</td>\n",
       "      <td>Lvl</td>\n",
       "      <td>AllPub</td>\n",
       "      <td>...</td>\n",
       "      <td>5</td>\n",
       "      <td>2010</td>\n",
       "      <td>WD</td>\n",
       "      <td>Normal</td>\n",
       "      <td>266500</td>\n",
       "      <td>9.109636</td>\n",
       "      <td>0.000111</td>\n",
       "      <td>81757764</td>\n",
       "      <td>10.523351</td>\n",
       "      <td>10.517089</td>\n",
       "    </tr>\n",
       "    <tr>\n",
       "      <th>1458</th>\n",
       "      <td>1459</td>\n",
       "      <td>20</td>\n",
       "      <td>RL</td>\n",
       "      <td>68.0</td>\n",
       "      <td>9717</td>\n",
       "      <td>Pave</td>\n",
       "      <td>NaN</td>\n",
       "      <td>Reg</td>\n",
       "      <td>Lvl</td>\n",
       "      <td>AllPub</td>\n",
       "      <td>...</td>\n",
       "      <td>4</td>\n",
       "      <td>2010</td>\n",
       "      <td>WD</td>\n",
       "      <td>Normal</td>\n",
       "      <td>142125</td>\n",
       "      <td>9.181632</td>\n",
       "      <td>0.000103</td>\n",
       "      <td>94420089</td>\n",
       "      <td>10.618900</td>\n",
       "      <td>10.612516</td>\n",
       "    </tr>\n",
       "    <tr>\n",
       "      <th>1459</th>\n",
       "      <td>1460</td>\n",
       "      <td>20</td>\n",
       "      <td>RL</td>\n",
       "      <td>75.0</td>\n",
       "      <td>9937</td>\n",
       "      <td>Pave</td>\n",
       "      <td>NaN</td>\n",
       "      <td>Reg</td>\n",
       "      <td>Lvl</td>\n",
       "      <td>AllPub</td>\n",
       "      <td>...</td>\n",
       "      <td>6</td>\n",
       "      <td>2008</td>\n",
       "      <td>WD</td>\n",
       "      <td>Normal</td>\n",
       "      <td>147500</td>\n",
       "      <td>9.204020</td>\n",
       "      <td>0.000101</td>\n",
       "      <td>98743969</td>\n",
       "      <td>10.648656</td>\n",
       "      <td>10.642234</td>\n",
       "    </tr>\n",
       "  </tbody>\n",
       "</table>\n",
       "<p>1460 rows × 86 columns</p>\n",
       "</div>"
      ],
      "text/plain": [
       "        Id  MSSubClass MSZoning  LotFrontage  LotArea Street Alley LotShape  \\\n",
       "0        1          60       RL         65.0     8450   Pave   NaN      Reg   \n",
       "1        2          20       RL         80.0     9600   Pave   NaN      Reg   \n",
       "2        3          60       RL         68.0    11250   Pave   NaN      IR1   \n",
       "3        4          70       RL         60.0     9550   Pave   NaN      IR1   \n",
       "4        5          60       RL         84.0    14260   Pave   NaN      IR1   \n",
       "...    ...         ...      ...          ...      ...    ...   ...      ...   \n",
       "1455  1456          60       RL         62.0     7917   Pave   NaN      Reg   \n",
       "1456  1457          20       RL         85.0    13175   Pave   NaN      Reg   \n",
       "1457  1458          70       RL         66.0     9042   Pave   NaN      Reg   \n",
       "1458  1459          20       RL         68.0     9717   Pave   NaN      Reg   \n",
       "1459  1460          20       RL         75.0     9937   Pave   NaN      Reg   \n",
       "\n",
       "     LandContour Utilities  ... MoSold YrSold SaleType SaleCondition  \\\n",
       "0            Lvl    AllPub  ...      2   2008       WD        Normal   \n",
       "1            Lvl    AllPub  ...      5   2007       WD        Normal   \n",
       "2            Lvl    AllPub  ...      9   2008       WD        Normal   \n",
       "3            Lvl    AllPub  ...      2   2006       WD       Abnorml   \n",
       "4            Lvl    AllPub  ...     12   2008       WD        Normal   \n",
       "...          ...       ...  ...    ...    ...      ...           ...   \n",
       "1455         Lvl    AllPub  ...      8   2007       WD        Normal   \n",
       "1456         Lvl    AllPub  ...      2   2010       WD        Normal   \n",
       "1457         Lvl    AllPub  ...      5   2010       WD        Normal   \n",
       "1458         Lvl    AllPub  ...      4   2010       WD        Normal   \n",
       "1459         Lvl    AllPub  ...      6   2008       WD        Normal   \n",
       "\n",
       "     SalePrice LotArea_log LotArea_inv  LotArea_quadratic  LotArea_boxCox  \\\n",
       "0       208500    9.041922    0.000118           71402500       10.433680   \n",
       "1       181500    9.169518    0.000104           92160000       10.602809   \n",
       "2       223500    9.328123    0.000089          126562500       10.813973   \n",
       "3       140000    9.164296    0.000105           91202500       10.595874   \n",
       "4       250000    9.565214    0.000070          203347600       11.131570   \n",
       "...        ...         ...         ...                ...             ...   \n",
       "1455    175000    8.976768    0.000126           62678889       10.347575   \n",
       "1456    210000    9.486076    0.000076          173580625       11.025301   \n",
       "1457    266500    9.109636    0.000111           81757764       10.523351   \n",
       "1458    142125    9.181632    0.000103           94420089       10.618900   \n",
       "1459    147500    9.204020    0.000101           98743969       10.648656   \n",
       "\n",
       "      LotArea_YJ  \n",
       "0      10.427531  \n",
       "1      10.596445  \n",
       "2      10.807340  \n",
       "3      10.589519  \n",
       "4      11.124530  \n",
       "...          ...  \n",
       "1455   10.341536  \n",
       "1456   11.018398  \n",
       "1457   10.517089  \n",
       "1458   10.612516  \n",
       "1459   10.642234  \n",
       "\n",
       "[1460 rows x 86 columns]"
      ]
     },
     "execution_count": 49,
     "metadata": {},
     "output_type": "execute_result"
    }
   ],
   "source": [
    "# La correlación mas alta es la de YeoJohnson con 0.389517, entonces:\n",
    "\n",
    "dataset['LotArea_YJ'], lambdaX = stats.yeojohnson(dataset['LotArea'])\n",
    "dataset"
   ]
  },
  {
   "cell_type": "markdown",
   "id": "d0e335e8-5f96-4f6e-ab17-589c0b3c13f9",
   "metadata": {},
   "source": [
    "### Exportar archivo a CSV"
   ]
  },
  {
   "cell_type": "code",
   "execution_count": 50,
   "id": "e1193ef4-7a71-45b1-96d9-41055b59b8f3",
   "metadata": {},
   "outputs": [],
   "source": [
    "dataset.to_csv('Dataset_final.csv')"
   ]
  }
 ],
 "metadata": {
  "kernelspec": {
   "display_name": "Python 3 (ipykernel)",
   "language": "python",
   "name": "python3"
  },
  "language_info": {
   "codemirror_mode": {
    "name": "ipython",
    "version": 3
   },
   "file_extension": ".py",
   "mimetype": "text/x-python",
   "name": "python",
   "nbconvert_exporter": "python",
   "pygments_lexer": "ipython3",
   "version": "3.9.7"
  }
 },
 "nbformat": 4,
 "nbformat_minor": 5
}
